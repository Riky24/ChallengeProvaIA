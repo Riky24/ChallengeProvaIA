{
 "cells": [
  {
   "cell_type": "code",
   "execution_count": 77,
   "metadata": {},
   "outputs": [],
   "source": [
    "# Consegna Challenge di prova: mushroom dataset Riccardo Moglioni"
   ]
  },
  {
   "cell_type": "code",
   "execution_count": 78,
   "metadata": {},
   "outputs": [
    {
     "name": "stdout",
     "output_type": "stream",
     "text": [
      "Requirement already satisfied: pandas in d:\\programmi\\anaconda3\\lib\\site-packages (1.1.3)\n",
      "Requirement already satisfied: numpy>=1.15.4 in d:\\programmi\\anaconda3\\lib\\site-packages (from pandas) (1.19.2)\n",
      "Requirement already satisfied: python-dateutil>=2.7.3 in d:\\programmi\\anaconda3\\lib\\site-packages (from pandas) (2.8.1)\n",
      "Requirement already satisfied: pytz>=2017.2 in d:\\programmi\\anaconda3\\lib\\site-packages (from pandas) (2020.1)\n",
      "Requirement already satisfied: six>=1.5 in d:\\programmi\\anaconda3\\lib\\site-packages (from python-dateutil>=2.7.3->pandas) (1.15.0)\n",
      "Requirement already satisfied: scikit-learn in d:\\programmi\\anaconda3\\lib\\site-packages (0.22)\n",
      "Requirement already satisfied: scipy>=0.17.0 in d:\\programmi\\anaconda3\\lib\\site-packages (from scikit-learn) (1.5.2)\n",
      "Requirement already satisfied: joblib>=0.11 in d:\\programmi\\anaconda3\\lib\\site-packages (from scikit-learn) (0.17.0)\n",
      "Requirement already satisfied: numpy>=1.11.0 in d:\\programmi\\anaconda3\\lib\\site-packages (from scikit-learn) (1.19.2)\n"
     ]
    }
   ],
   "source": [
    "!pip install pandas\n",
    "!pip install scikit-learn\n",
    "import pandas as pd\n",
    "import numpy as np\n",
    "from sklearn.preprocessing import OneHotEncoder\n",
    "from sklearn.model_selection import train_test_split"
   ]
  },
  {
   "cell_type": "code",
   "execution_count": 79,
   "metadata": {},
   "outputs": [],
   "source": [
    "# lettura del csv\n",
    "path = \"mushrooms.partial.csv\"\n",
    "data = pd.read_csv(path)"
   ]
  },
  {
   "cell_type": "code",
   "execution_count": 80,
   "metadata": {},
   "outputs": [],
   "source": [
    "# prima visualizzazione dei dati\n",
    "#data.head()"
   ]
  },
  {
   "cell_type": "code",
   "execution_count": 81,
   "metadata": {},
   "outputs": [],
   "source": [
    "# calcolo dei valori missing in funzione delle colonne\n",
    "missing_values_count = (data=='?').sum()\n",
    "#missing_values_count"
   ]
  },
  {
   "cell_type": "code",
   "execution_count": 82,
   "metadata": {},
   "outputs": [],
   "source": [
    "# calcolo della percentuale dei dati missing\n",
    "total_values = np.product(data.shape)  #numero totale dei valori\n",
    "total_missing = missing_values_count.sum()  #numero totale dei valori missing\n",
    "\n",
    "percent_missing = (total_missing/total_values) * 100\n",
    "#print('Percentuale dei dati persi:',percent_missing,'%')\n",
    "#Percentuale dei dati persi: 1.3426814827699245 %"
   ]
  },
  {
   "cell_type": "code",
   "execution_count": 83,
   "metadata": {},
   "outputs": [],
   "source": [
    "# eliminazione della colonna stalk-root\n",
    "\n",
    "# I dati persi si trovano unicamente su di una colonna.\n",
    "# Essi costituiscono circa il 32% di quella colonna\n",
    "# ed essendo valori categorici, quindi non sotituibili,\n",
    "# ho sceldo di eliminare interamente la colonna\n",
    "data_dropped = data.drop(['stalk-root'], axis=1)"
   ]
  },
  {
   "cell_type": "code",
   "execution_count": 84,
   "metadata": {},
   "outputs": [],
   "source": [
    "# definizione degli insiemi x e y\n",
    "y = data['class']\n",
    "X = data.drop(['class'], axis=1)"
   ]
  },
  {
   "cell_type": "code",
   "execution_count": 85,
   "metadata": {},
   "outputs": [],
   "source": [
    "#y.describe()"
   ]
  },
  {
   "cell_type": "code",
   "execution_count": 86,
   "metadata": {},
   "outputs": [],
   "source": [
    "# sostituisco le variabili \"e\" ed \"p\" con i valori 1.0 e 0.0 rispettivamente\n",
    "for n in y.keys():\n",
    "    if y[n]=='e':\n",
    "        y[n]=1.0\n",
    "    elif y[n]=='p':\n",
    "        y[n]=0.0\n",
    "        \n",
    "#y.describe()"
   ]
  },
  {
   "cell_type": "code",
   "execution_count": 87,
   "metadata": {},
   "outputs": [],
   "source": [
    "# generazione degli insiemi di train e test per x e y\n",
    "X_train, X_test, y_train, y_test = train_test_split(X, y, train_size=0.8, test_size=0.2, random_state=0)\n",
    "\n",
    "#X_train.shape"
   ]
  },
  {
   "cell_type": "code",
   "execution_count": 88,
   "metadata": {},
   "outputs": [],
   "source": [
    "# Applicazione della codifica one-hot ad ogni colonna di X, \n",
    "# in quando ognuna di esse rappresenta variabili categoriche.\n",
    "\n",
    "# Tale codifica crea per ogni valore distinto di ogni colonna una nuova colonna\n",
    "# i cui valori sono 1 o 0 in funzione della presenza dei rispettivi valori,\n",
    "# mentre il numero di righe resta invariato.\n",
    "\n",
    "# es. data la colonna C con valori 'a' e 'b' genera due nuove colonne, una per 'a'\n",
    "# che avrà valore 1 per ogni riga in C con valore 'a', zero altrimenti,\n",
    "# ed una colonna per 'b' che avrà valore 1 per ogni riga in C con valore 'b', \n",
    "# zero altrimenti\n",
    "\n",
    "# sparse=False assicura che le colonne codificate vengano restituite come un array numpy e non come una matrice sparsa\n",
    "# handle_unknown='ignore' ignora eventuali messaggi di errore nel caso in cui ci siano valori diversi in train e test\n",
    "OH_encoder = OneHotEncoder(sparse=False, handle_unknown='ignore')\n",
    "OH_X_train = pd.DataFrame(OH_encoder.fit_transform(X_train))\n",
    "OH_X_test = pd.DataFrame(OH_encoder.transform(X_test))\n",
    "\n",
    "# la codifica One-hot rimuove gli indici; li ripristino\n",
    "OH_X_train.index = X_train.index\n",
    "OH_X_test.index = X_test.index\n",
    "\n",
    "#OH_X_test.shape"
   ]
  },
  {
   "cell_type": "code",
   "execution_count": 89,
   "metadata": {},
   "outputs": [],
   "source": [
    "# preparazione dei dati per la scrittura su csv\n",
    "train = pd.concat([OH_X_train, y_train], axis=1)\n",
    "test = pd.concat([OH_X_test, y_test], axis=1)"
   ]
  },
  {
   "cell_type": "code",
   "execution_count": 90,
   "metadata": {},
   "outputs": [],
   "source": [
    "# scrittura\n",
    "train.to_csv('train.csv', index=False)  # index=False non riporta l'indice come colonna nel csv\n",
    "test.to_csv('test.csv', index=False)"
   ]
  },
  {
   "cell_type": "code",
   "execution_count": 91,
   "metadata": {},
   "outputs": [],
   "source": [
    "# verifiche di corretta formattazione per la successiva lettura\n",
    "\n",
    "#provatrain = pd.read_csv('train.csv')\n",
    "#provatest = pd.read_csv('test.csv')\n",
    "#print(provatrain.head())\n",
    "#print(provatest.head())"
   ]
  },
  {
   "cell_type": "code",
   "execution_count": null,
   "metadata": {},
   "outputs": [],
   "source": []
  }
 ],
 "metadata": {
  "kernelspec": {
   "display_name": "Python 3",
   "language": "python",
   "name": "python3"
  },
  "language_info": {
   "codemirror_mode": {
    "name": "ipython",
    "version": 3
   },
   "file_extension": ".py",
   "mimetype": "text/x-python",
   "name": "python",
   "nbconvert_exporter": "python",
   "pygments_lexer": "ipython3",
   "version": "3.8.5"
  }
 },
 "nbformat": 4,
 "nbformat_minor": 4
}
