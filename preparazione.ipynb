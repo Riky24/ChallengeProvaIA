{
 "cells": [
  {
   "cell_type": "code",
   "execution_count": 63,
   "metadata": {},
   "outputs": [],
   "source": [
    "!pip install pandas\n",
    "!pip install scikit-learn\n",
    "import pandas as pd\n",
    "import numpy as np\n",
    "from sklearn.preprocessing import OneHotEncoder\n",
    "from sklearn.model_selection import train_test_split"
   ]
  },
  {
   "cell_type": "code",
   "execution_count": 64,
   "metadata": {},
   "outputs": [],
   "source": [
    "# lettura del csv\n",
    "path = \"mushrooms.partial.csv\"\n",
    "data = pd.read_csv(path)"
   ]
  },
  {
   "cell_type": "code",
   "execution_count": 65,
   "metadata": {},
   "outputs": [],
   "source": [
    "# prima visualizzazione dei dati\n",
    "#data.head()"
   ]
  },
  {
   "cell_type": "code",
   "execution_count": 66,
   "metadata": {},
   "outputs": [],
   "source": [
    "# calcolo dei valori missing in funzione delle colonne\n",
    "missing_values_count = (data=='?').sum()\n",
    "#missing_values_count"
   ]
  },
  {
   "cell_type": "code",
   "execution_count": 67,
   "metadata": {},
   "outputs": [],
   "source": [
    "# calcolo della percentuale dei dati missing\n",
    "total_values = np.product(data.shape)  #numero totale dei valori\n",
    "total_missing = missing_values_count.sum()  #numero totale dei valori missing\n",
    "\n",
    "percent_missing = (total_missing/total_values) * 100\n",
    "#print('Percentuale dei dati persi:',percent_missing,'%')\n",
    "#Percentuale dei dati persi: 1.3426814827699245 %"
   ]
  },
  {
   "cell_type": "code",
   "execution_count": 68,
   "metadata": {},
   "outputs": [],
   "source": [
    "# eliminazione della colonna stalk-root\n",
    "\n",
    "# I dati persi si trovano unicamente su di una colonna.\n",
    "# Essi costituiscono circa il 32% di quella colonna\n",
    "# ed essendo valori categorici, quindi non sotituibili,\n",
    "# ho sceldo di eliminare interamente la colonna\n",
    "data_dropped = data.drop(['stalk-root'], axis=1)"
   ]
  },
  {
   "cell_type": "code",
   "execution_count": 69,
   "metadata": {},
   "outputs": [],
   "source": [
    "# definizione degli insiemi x e y\n",
    "y = data['class']\n",
    "X = data.drop(['class'], axis=1)"
   ]
  },
  {
   "cell_type": "code",
   "execution_count": 70,
   "metadata": {},
   "outputs": [],
   "source": [
    "#y.describe()"
   ]
  },
  {
   "cell_type": "code",
   "execution_count": 71,
   "metadata": {},
   "outputs": [],
   "source": [
    "# sostituisco le variabili \"e\" ed \"p\" con i valori 1.0 e 0.0 rispettivamente\n",
    "for n in y.keys():\n",
    "    if y[n]=='e':\n",
    "        y[n]=1.0\n",
    "    elif y[n]=='p':\n",
    "        y[n]=0.0\n",
    "        \n",
    "#y.describe()"
   ]
  },
  {
   "cell_type": "code",
   "execution_count": 72,
   "metadata": {},
   "outputs": [],
   "source": [
    "# generazione degli insiemi di train e testper x e y\n",
    "X_train, X_test, y_train, y_test = train_test_split(X, y, train_size=0.8, test_size=0.2, random_state=0)\n",
    "\n",
    "#X_train.shape"
   ]
  },
  {
   "cell_type": "code",
   "execution_count": 73,
   "metadata": {},
   "outputs": [],
   "source": [
    "# Applicazione della codifica one-hot ad ogni colonna di X, \n",
    "# in quando ognuna di esse rappresenta variabili categoriche.\n",
    "\n",
    "# Tale codifica crea per ogni valore distinto di ogni colonna una nuova colonna\n",
    "# i cui valori sono 1 o 0 in funzione della presenza dei rispettivi valori,\n",
    "# mentre il numero di righe resta invariato.\n",
    "\n",
    "# es. data la colonna C con valori 'a' e 'b' genera due nuove colonne, una per 'a'\n",
    "# che avrà valore 1 per ogni riga in C con valore 'a', zero altrimenti,\n",
    "# ed una colonna per 'b' che avrà valore 1 per ogni riga in C con valore 'b', \n",
    "# zero altrimenti\n",
    "\n",
    "# sparse=False assicura che le colonne codificate vengano restituite come un array numpy e non come una matrice sparsa\n",
    "# handle_unknown='ignore' ignora eventuali messaggi di errore nel caso in cui ci siano valori diversi in train e test\n",
    "OH_encoder = OneHotEncoder(sparse=False, handle_unknown='ignore')\n",
    "OH_X_train = pd.DataFrame(OH_encoder.fit_transform(X_train))\n",
    "OH_X_test = pd.DataFrame(OH_encoder.transform(X_test))\n",
    "\n",
    "# la codifica One-hot rimuove gli indici; li ripristino\n",
    "OH_X_train.index = X_train.index\n",
    "OH_X_test.index = X_test.index\n",
    "\n",
    "#OH_X_test.shape"
   ]
  },
  {
   "cell_type": "code",
   "execution_count": 74,
   "metadata": {},
   "outputs": [],
   "source": [
    "# preparazione dei dati per la scrittura su csv\n",
    "train = pd.concat([OH_X_train, y_train], axis=1)\n",
    "test = pd.concat([OH_X_test, y_test], axis=1)"
   ]
  },
  {
   "cell_type": "code",
   "execution_count": 75,
   "metadata": {},
   "outputs": [],
   "source": [
    "# scrittura\n",
    "train.to_csv('train.csv', index=False)  # index=False non riporta l'indice come colonna nel csv\n",
    "test.to_csv('test.csv', index=False)"
   ]
  },
  {
   "cell_type": "code",
   "execution_count": 76,
   "metadata": {},
   "outputs": [],
   "source": [
    "# verifiche di corretta formattazione per la successiva lettura\n",
    "\n",
    "#provatrain = pd.read_csv('train.csv')\n",
    "#provatest = pd.read_csv('test.csv')\n",
    "#print(provatrain.head())\n",
    "#print(provatest.head())"
   ]
  },
  {
   "cell_type": "code",
   "execution_count": null,
   "metadata": {},
   "outputs": [],
   "source": []
  }
 ],
 "metadata": {
  "kernelspec": {
   "display_name": "Python 3",
   "language": "python",
   "name": "python3"
  },
  "language_info": {
   "codemirror_mode": {
    "name": "ipython",
    "version": 3
   },
   "file_extension": ".py",
   "mimetype": "text/x-python",
   "name": "python",
   "nbconvert_exporter": "python",
   "pygments_lexer": "ipython3",
   "version": "3.8.5"
  }
 },
 "nbformat": 4,
 "nbformat_minor": 4
}
