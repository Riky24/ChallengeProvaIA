{
 "cells": [
  {
   "cell_type": "code",
   "execution_count": 232,
   "metadata": {},
   "outputs": [],
   "source": [
    "!pip install pandas\n",
    "!pip install scikit-learn\n",
    "import pandas as pd\n",
    "from sklearn.model_selection import train_test_split\n",
    "from sklearn.tree import DecisionTreeClassifier"
   ]
  },
  {
   "cell_type": "code",
   "execution_count": 233,
   "metadata": {},
   "outputs": [],
   "source": [
    "# lettura dei file csv\n",
    "train_path = \"train.csv\"\n",
    "train = pd.read_csv(train_path)\n",
    "\n",
    "test_path = \"test.csv\"\n",
    "test = pd.read_csv(test_path)"
   ]
  },
  {
   "cell_type": "code",
   "execution_count": 234,
   "metadata": {},
   "outputs": [],
   "source": [
    "# controllo delle tabelle generate\n",
    "#train.head()"
   ]
  },
  {
   "cell_type": "code",
   "execution_count": 235,
   "metadata": {},
   "outputs": [],
   "source": [
    "# controllo delle tabelle generate\n",
    "#test.head()"
   ]
  },
  {
   "cell_type": "code",
   "execution_count": 236,
   "metadata": {},
   "outputs": [],
   "source": [
    "#creazione degli insiemi X e y sia per test che per training\n",
    "train_file_y = train['class']\n",
    "train_file_X = train.drop(['class'], axis=1)\n",
    "\n",
    "test_file_y = test['class']\n",
    "test_file_X = test.drop(['class'], axis=1)\n",
    "\n",
    "#print(train_file_X.shape)\n",
    "#print(train_file_y.shape)"
   ]
  },
  {
   "cell_type": "code",
   "execution_count": 237,
   "metadata": {},
   "outputs": [],
   "source": [
    "# dato l'insieme di training effettuiamo uno split per generare l'insieme di validation\n",
    "X_train, X_val, y_train, y_val = train_test_split(\n",
    "    train_file_X, \n",
    "    train_file_y, \n",
    "    stratify=train_file_y, \n",
    "    train_size=0.8, \n",
    "    test_size=0.2, \n",
    "    random_state=42\n",
    ")"
   ]
  },
  {
   "cell_type": "code",
   "execution_count": 238,
   "metadata": {},
   "outputs": [
    {
     "data": {
      "text/plain": [
       "DecisionTreeClassifier(ccp_alpha=0.0, class_weight=None, criterion='gini',\n",
       "                       max_depth=None, max_features=None, max_leaf_nodes=None,\n",
       "                       min_impurity_decrease=0.0, min_impurity_split=None,\n",
       "                       min_samples_leaf=1, min_samples_split=2,\n",
       "                       min_weight_fraction_leaf=0.0, presort='deprecated',\n",
       "                       random_state=0, splitter='best')"
      ]
     },
     "execution_count": 238,
     "metadata": {},
     "output_type": "execute_result"
    }
   ],
   "source": [
    "# addestramento e calcolo dell'accuracy utilizzando train e validation\n",
    "tree = DecisionTreeClassifier(random_state=0)\n",
    "tree.fit(X_train, y_train)\n",
    "#print(\"Accuracy on training set: {:.3f}\".format(tree.score(X_train, y_train)))\n",
    "#print(\"Accuracy on validation set: {:.3f}\".format(tree.score(X_val, y_val)))\n",
    "\n",
    "# si ottiene un'accuracy in entrambi i casi pari a 1. Possibile data leakage\n",
    "# Accuracy on training set: 1.000\n",
    "# Accuracy on validation set: 1.000"
   ]
  },
  {
   "cell_type": "code",
   "execution_count": 239,
   "metadata": {},
   "outputs": [
    {
     "data": {
      "text/plain": [
       "DecisionTreeClassifier(ccp_alpha=0.0, class_weight=None, criterion='gini',\n",
       "                       max_depth=None, max_features=None, max_leaf_nodes=None,\n",
       "                       min_impurity_decrease=0.0, min_impurity_split=None,\n",
       "                       min_samples_leaf=1, min_samples_split=2,\n",
       "                       min_weight_fraction_leaf=0.0, presort='deprecated',\n",
       "                       random_state=0, splitter='best')"
      ]
     },
     "execution_count": 239,
     "metadata": {},
     "output_type": "execute_result"
    }
   ],
   "source": [
    "#ripeto l'esperimento utilizzando i dati di test per il confronto\n",
    "tree = DecisionTreeClassifier(random_state=0)\n",
    "tree.fit(X_train, y_train)\n",
    "\n",
    "#print(\"Accuracy on training set: {:.3f}\".format(tree.score(X_train, y_train)))\n",
    "#print(\"Accuracy on test set: {:.3f}\".format(tree.score(test_file_X, test_file_y)))\n",
    "\n",
    "# evidente Data Leakage\n",
    "# Accuracy on training set: 1.000\n",
    "# Accuracy on test set: 1.000"
   ]
  },
  {
   "cell_type": "code",
   "execution_count": 240,
   "metadata": {},
   "outputs": [],
   "source": [
    "# stampa dei valori di importanza associati alle varie colonne\n",
    "#print(tree.feature_importances_)"
   ]
  },
  {
   "cell_type": "code",
   "execution_count": 241,
   "metadata": {},
   "outputs": [],
   "source": [
    "# analizzando l'importanza associata ad ogni colonna si nota come\n",
    "# la colonna 27 abbia un'importanza molto superiore alle altre,\n",
    "# (il 63% sul totale) e il 90% dei suoi valori coincidono con l'output\n",
    "\n",
    "#print((test_file_X['27']==test_file_y).sum()/len(test_file_y))\n",
    "# 0.8961538461538462"
   ]
  },
  {
   "cell_type": "code",
   "execution_count": 242,
   "metadata": {},
   "outputs": [],
   "source": [
    "# ipotizzando che la causa del problema possa essere questa colonna ho provato a\n",
    "# riconoscere la colonna originale da cui deriva tale valore (odore), anche\n",
    "# se apparentemente non sembra possa causare data leakage ho provato ad eliminarla \n",
    "# dai dati durante la preparazione. L'importanza si distribuisce su altre \n",
    "# variabili ma il fenomeno persiste"
   ]
  },
  {
   "cell_type": "code",
   "execution_count": 243,
   "metadata": {},
   "outputs": [
    {
     "name": "stdout",
     "output_type": "stream",
     "text": [
      "Accuracy on training set: 1.000\n",
      "Accuracy on test set: 1.000\n"
     ]
    }
   ],
   "source": [
    "# per la consegna ignoro lo split training-validation e addestro il \n",
    "# modello su tutti i dati ottenuti dal training.csv\n",
    "\n",
    "final_tree = DecisionTreeClassifier(random_state=0)\n",
    "tree.fit(train_file_X, train_file_y)\n",
    "\n",
    "print(\"Accuracy on training set: {:.3f}\".format(tree.score(train_file_X, train_file_y)))\n",
    "print(\"Accuracy on test set: {:.3f}\".format(tree.score(test_file_X, test_file_y)))"
   ]
  }
 ],
 "metadata": {
  "kernelspec": {
   "display_name": "Python 3",
   "language": "python",
   "name": "python3"
  },
  "language_info": {
   "codemirror_mode": {
    "name": "ipython",
    "version": 3
   },
   "file_extension": ".py",
   "mimetype": "text/x-python",
   "name": "python",
   "nbconvert_exporter": "python",
   "pygments_lexer": "ipython3",
   "version": "3.8.5"
  }
 },
 "nbformat": 4,
 "nbformat_minor": 4
}
